{
 "cells": [
  {
   "cell_type": "markdown",
   "metadata": {},
   "source": [
    "# Question 1"
   ]
  },
  {
   "cell_type": "markdown",
   "metadata": {},
   "source": [
    "Given two strings s and t, determine whether some anagram of t is a substring of s. For example: if s = \"udacity\" and t = \"ad\", then the function returns True. Your function definition should look like:question1(s, t) and return a boolean True or False."
   ]
  },
  {
   "cell_type": "code",
   "execution_count": 1,
   "metadata": {
    "collapsed": true
   },
   "outputs": [],
   "source": [
    "def question1(s,t):\n",
    "    n = len(s)\n",
    "    m = len(t)\n",
    "    if n<m:\n",
    "        return False\n",
    "    toreduce = dict.fromkeys(t,1)\n",
    "\n",
    "    for i in range(m):\n",
    "        c = s[i]\n",
    "        if c in toreduce:\n",
    "            toreduce[c] -= 1\n",
    "    total = sum(abs(toreduce[c]) for c in toreduce)\n",
    "    \n",
    "    for i in range(m,n):\n",
    "        if total == 0:\n",
    "            return True\n",
    "        else:\n",
    "            c = s[i-m]\n",
    "            if c in toreduce:\n",
    "                toreduce[c] +=1\n",
    "                if toreduce[c]>0:\n",
    "                    total +=1\n",
    "                else:\n",
    "                    total -=1\n",
    "            c= s[i]\n",
    "            if c in toreduce:\n",
    "                toreduce[c]-=1\n",
    "                if toreduce[c]<0:\n",
    "                    total+=1\n",
    "                else:\n",
    "                    total-=1\n",
    "\n",
    "    return total == 0"
   ]
  },
  {
   "cell_type": "code",
   "execution_count": 2,
   "metadata": {
    "collapsed": false
   },
   "outputs": [
    {
     "data": {
      "text/plain": [
       "True"
      ]
     },
     "execution_count": 2,
     "metadata": {},
     "output_type": "execute_result"
    }
   ],
   "source": [
    "question1('udacity','ad')"
   ]
  },
  {
   "cell_type": "code",
   "execution_count": 3,
   "metadata": {
    "collapsed": false
   },
   "outputs": [
    {
     "data": {
      "text/plain": [
       "True"
      ]
     },
     "execution_count": 3,
     "metadata": {},
     "output_type": "execute_result"
    }
   ],
   "source": [
    "question1('udacity','city')"
   ]
  },
  {
   "cell_type": "code",
   "execution_count": 4,
   "metadata": {
    "collapsed": false
   },
   "outputs": [
    {
     "data": {
      "text/plain": [
       "True"
      ]
     },
     "execution_count": 4,
     "metadata": {},
     "output_type": "execute_result"
    }
   ],
   "source": [
    "question1('udacity','tyci')"
   ]
  },
  {
   "cell_type": "markdown",
   "metadata": {},
   "source": [
    "The function initially gets the length of both strings to check if t has length of less than or equal to s. If it is not the case, return False. We first create a dictionary for each letter in t with a value of 1. Then we iterate with length of t in s to see if there are any common letters. If there are we subtract by 1. The goal is to reduce all the values in the dictionary to 0. If this is the case, then it means that all the letters in t are in s and that it is an anagram of s. \n",
    "\n",
    "If not then we continue with the for loop iterating through every letter in s to see if it is in the dictionary and adding or subracting the total accordingly. Based on how the iteration is structured, the big O notation for this is linear and dependent on the length of the strings. Additional variables are created that add space like the dictionary holding the t letters and the counter 'total'."
   ]
  },
  {
   "cell_type": "markdown",
   "metadata": {},
   "source": [
    "# Question 2 "
   ]
  },
  {
   "cell_type": "markdown",
   "metadata": {},
   "source": [
    "Given a string a, find the longest palindromic substring contained in a. Your function definition should look like question2(a), and return a string."
   ]
  },
  {
   "cell_type": "code",
   "execution_count": 7,
   "metadata": {
    "collapsed": true
   },
   "outputs": [],
   "source": [
    "def question2(a):\n",
    "    longest = []\n",
    "    length = len(a)\n",
    "    summ=0\n",
    "    for num in range(0,length/2):#code if the entire word is a palindrome\n",
    "        if a[num]==a[(num+1)*-1]:\n",
    "            summ = summ+1\n",
    "    if summ == length/2:\n",
    "        longest.append(a)\n",
    "        return longest[0]\n",
    "    while not longest:\n",
    "        for buckets in range(length-2):\n",
    "            for numbers in range(buckets+2):\n",
    "                b = a[numbers:numbers+length-1-buckets] \n",
    "                total=0\n",
    "                for number in range(0,len(b)/2):     #code to check if b is a palindrome\n",
    "                    if b[number]==b[(number+1)*-1]:\n",
    "                        total=total+1\n",
    "                if total ==len(b)/2:\n",
    "                    longest.append(b)\n",
    "                    return longest[0]\n",
    "        return None"
   ]
  },
  {
   "cell_type": "code",
   "execution_count": 12,
   "metadata": {
    "collapsed": false
   },
   "outputs": [],
   "source": [
    "question2('udacity')"
   ]
  },
  {
   "cell_type": "markdown",
   "metadata": {},
   "source": [
    "The code works by checking first if \"a\" is a palindrome. If it is not a palindrome then it will loop through different combinations of \"a\" starting with the longest ones. For example, for the word \"hello\", since it is not a palindrome, it will loop through the letters of the words in the following manner:\n",
    "\n",
    "hell ello hel ell llo he el ll\n",
    "\n",
    "Once a palindrome is found, it will stop the loop and return that palindromic word. In the best case scenario where the word itself is a palindrome will give a big O notation of O(1) but in the worst case scenario that there is no palindrome in the word, then the function will have to loop through every possible combination which in this case is a function of the length of the word. The longer the word, the more loops increasing incrementally. This results to a nonlinear function with k increasing for every increase of in length of n. As for space complexity, the longest letter that is found will be stored in a list - with only one element - which occupies additional space."
   ]
  },
  {
   "cell_type": "markdown",
   "metadata": {},
   "source": [
    "# Question 3"
   ]
  },
  {
   "cell_type": "markdown",
   "metadata": {},
   "source": [
    "Given an undirected graph G, find the minimum spanning tree within G. A minimum spanning tree connects all vertices in a graph with the smallest possible total weight of edges. Your function should take in and return an adjacency list structured like this:\n",
    "\n",
    "{'A': [('B', 2)], 'B': [('A', 2), ('C', 5)], 'C': [('B', 5)]}\n",
    "\n",
    "Vertices are represented as unique strings. The function definition should be question3(G)"
   ]
  },
  {
   "cell_type": "code",
   "execution_count": 18,
   "metadata": {
    "collapsed": true
   },
   "outputs": [],
   "source": [
    "from collections import defaultdict\n",
    "from heapq import *\n",
    "\n",
    "def question3(G):\n",
    "    nodes= G.keys()\n",
    "    G2 = defaultdict(list)\n",
    "    for k,v in G.iteritems():\n",
    "        for num in range(len(v)):\n",
    "            new = v[num] + (k,)\n",
    "            G2[k].append(new)\n",
    "\n",
    "    mst = []\n",
    "    used = set(nodes[0])\n",
    "    usable_edges = list(G2[nodes[0]][:])\n",
    "    heapify(usable_edges)\n",
    " \n",
    "    while usable_edges:\n",
    "        n2, cost, n1 = heappop( usable_edges )\n",
    "        if n2 not in used:\n",
    "            used.add( n2 )\n",
    "            mst.append((n2,cost,n1))\n",
    "            for e in G2[ n2 ]:\n",
    "                if e[ 0 ] not in used:\n",
    "                    heappush( usable_edges, e )\n",
    "    \n",
    "    dictio = defaultdict(list)\n",
    "    for num in range(len(mst)):\n",
    "        dictio[mst[num][0]].append((mst[num][2],mst[num][1]))\n",
    "        dictio[mst[num][2]].append((mst[num][0],mst[num][1]))\n",
    "    \n",
    "    return dictio"
   ]
  },
  {
   "cell_type": "code",
   "execution_count": 19,
   "metadata": {
    "collapsed": false
   },
   "outputs": [
    {
     "data": {
      "text/plain": [
       "defaultdict(list,\n",
       "            {'A': [('B', 2)], 'B': [('A', 2), ('C', 5)], 'C': [('B', 5)]})"
      ]
     },
     "execution_count": 19,
     "metadata": {},
     "output_type": "execute_result"
    }
   ],
   "source": [
    "question3({'A': [('B', 2)],\n",
    " 'B': [('A', 2), ('C', 5)], \n",
    " 'C': [('B', 5)]})"
   ]
  },
  {
   "cell_type": "code",
   "execution_count": 20,
   "metadata": {
    "collapsed": true
   },
   "outputs": [],
   "source": [
    "trial = {'A':[('B',2),('C',3)],'B':[('A',2),('C',5),('D',7)],'C':[('A',3),('B',5),('D',6)],'D':[('B',7),('C',6)]}"
   ]
  },
  {
   "cell_type": "code",
   "execution_count": 21,
   "metadata": {
    "collapsed": false
   },
   "outputs": [
    {
     "data": {
      "text/plain": [
       "defaultdict(list,\n",
       "            {'A': [('B', 2), ('C', 3)],\n",
       "             'B': [('A', 2)],\n",
       "             'C': [('A', 3), ('D', 6)],\n",
       "             'D': [('C', 6)]})"
      ]
     },
     "execution_count": 21,
     "metadata": {},
     "output_type": "execute_result"
    }
   ],
   "source": [
    "question3(trial)"
   ]
  },
  {
   "cell_type": "markdown",
   "metadata": {},
   "source": [
    "I used Prim's algorithm to find the minimum spanning tree for the weighted undirected graph G. This starts with picking a node which in the case of the node above will pick node[0] and adding them to a visited list. Prim is a greedy algorithm which will choose the smallest edge that connects to an unvisited node which will then add this to the visited list until all the vertices are in the list. Given the data structure, the time complexity for this is O(VlogV + ElogV). As for space complexity, two new dictionaries are created for this function - G2 and the final result dictio. If space is an issue, we can replace G with the final output."
   ]
  },
  {
   "cell_type": "markdown",
   "metadata": {},
   "source": [
    "# Question 4 "
   ]
  },
  {
   "cell_type": "markdown",
   "metadata": {},
   "source": [
    "Find the least common ancestor between two nodes on a binary search tree. The least common ancestor is the farthest node from the root that is an ancestor of both nodes. For example, the root is a common ancestor of all nodes on the tree, but if both nodes are descendents of the root's left child, then that left child might be the lowest common ancestor. You can assume that both nodes are in the tree, and the tree itself adheres to all BST properties. The function definition should look like question4(T, r, n1, n2), where T is the tree represented as a matrix, where the index of the list is equal to the integer stored in that node and a 1 represents a child node, r is a non-negative integer representing the root, and n1 and n2 are non-negative integers representing the two nodes in no particular order. \n",
    "\n",
    "For example, one test case might be\n",
    "question4([[0, 1, 0, 0, 0], [0, 0, 0, 0, 0], [0, 0, 0, 0, 0], [1, 0, 0, 0, 1], [0, 0, 0, 0, 0]], 3, 1, 4) and the answer would be 3."
   ]
  },
  {
   "cell_type": "code",
   "execution_count": 22,
   "metadata": {
    "collapsed": true
   },
   "outputs": [],
   "source": [
    "def generatelist(T,r,n1,n2): #function to generate all the ancestors of n1 including root\n",
    "    n1nodes=[n1]\n",
    "    length=len(T)\n",
    "    while r not in n1nodes:\n",
    "        l = [ind for ind in xrange(length) if ind not in n1nodes]\n",
    "        for num in l:\n",
    "            if T[num][n1nodes[-1]] == 1:\n",
    "                n1nodes.append(num)\n",
    "        return n1nodes\n",
    "    \n",
    "def question4(T,r,n1,n2): #function to generate the ancestors of n2 until a match is found with n1\n",
    "    n2nodes=[n2]\n",
    "    length = len(T)\n",
    "    n1nodes = generatelist(T,r,n1,n2)\n",
    "    while n2nodes[-1] not in n1nodes:\n",
    "        m = [ind for ind in xrange(length) if ind not in n2nodes]\n",
    "        for number in m:\n",
    "            if T[number][n2nodes[-1]]==1:\n",
    "                n2nodes.append(number)\n",
    "    return n2nodes[-1]"
   ]
  },
  {
   "cell_type": "code",
   "execution_count": 23,
   "metadata": {
    "collapsed": false
   },
   "outputs": [
    {
     "data": {
      "text/plain": [
       "3"
      ]
     },
     "execution_count": 23,
     "metadata": {},
     "output_type": "execute_result"
    }
   ],
   "source": [
    "question4([[0, 1, 0, 0, 0], [0, 0, 0, 0, 0], [0, 0, 0, 0, 0], [1, 0, 0, 0, 1], [0, 0, 0, 0, 0]], 3, 1, 4)"
   ]
  },
  {
   "cell_type": "markdown",
   "metadata": {},
   "source": [
    "In order to find the least common ancestor between two nodes in a binary search tree, I decided to make two separate functions. The first function will generate the list of all the ancestors of the first node. In the example tree given, this would generate a list of [1,0,3] with 1 being n1 and 0 and 3 its ancestors. The for loop will no longer go through the vertices that is in the list. \n",
    "\n",
    "Once the list is generated, we can proceed to the second function. The second function will generate a similar list as n1nodes list for n2 but will not generate until the root. It will stop the loop once there is a match in ancestor in the n2nodes list and the n1nodes list. The runtime for this would be the height of the tree which is O(log(n)) and since there would be two searches one for n1 and one for n2, the runtime would be O(2(log(n)). One way to improve this code would be to make use of the fact that a binary search tree has the property of being sorted from smallest to largest - left to right. With that, we can already have an idea that least common ancestor between two nodes would be a number in between n1 and n2."
   ]
  },
  {
   "cell_type": "code",
   "execution_count": 39,
   "metadata": {
    "collapsed": true
   },
   "outputs": [],
   "source": [
    "def question4b(T,r,n1,n2):\n",
    "    \n",
    "    if n2>(len(T)-1) and n1>(len(T)-1):\n",
    "        return None\n",
    "    if n2>(len(T)-1) or n1>(len(T)-1):\n",
    "        return None\n",
    "    if n1==r or n2==r:\n",
    "        return r\n",
    "    if n1<r and n2>r:\n",
    "        return r\n",
    "    if (n1>r and n2>r) or (n1<r and n2<r):\n",
    "        vertex = []\n",
    "        for num in range((n1+1,n2)):\n",
    "            if all(el==0 for el in T[num]) is False:\n",
    "                vertex.append(num)\n",
    "        if len(vertex) == 1:\n",
    "            return vertex[0]\n",
    "        else:\n",
    "            \n",
    "            n1nodes = [n1]\n",
    "            n2nodes = [n2]\n",
    "            length = len(vertex)\n",
    "            iteration = 0\n",
    "            while iteration <length:\n",
    "                iteration+=1\n",
    "                for num in vertex:\n",
    "                    if T[num][n1nodes[-1]]==1:\n",
    "                        n1nodes.append(num)\n",
    "            while n2nodes[-1] not in n1nodes:\n",
    "                for number in vertex:\n",
    "                    if T[number][n2nodes[-1]]==1:\n",
    "                        n2nodes.append(number)\n",
    "            return n2nodes[-1]"
   ]
  },
  {
   "cell_type": "markdown",
   "metadata": {},
   "source": [
    "An improvement for question 4 can be found in the cell above. This time, additional test cases are added. If the root is between the two nodes, then the root becomes the LCA. Also, the building of list is simplified with only looking at either the left or the right side of the BST. With the vertex, n1nodes and n2nodes list created, these would increase the space for function but can also be deleted once the final answer is retrieved."
   ]
  },
  {
   "cell_type": "code",
   "execution_count": 40,
   "metadata": {
    "collapsed": true
   },
   "outputs": [],
   "source": [
    "def question4c(T,r,n1,n2):    \n",
    "    if n2>(len(T)-1) and n1>(len(T)-1):\n",
    "        return None\n",
    "    if n2>(len(T)-1) or n1>(len(T)-1):\n",
    "        return None\n",
    "    if n1==r or n2==r:\n",
    "        return r\n",
    "    if n1<r and n2>r:\n",
    "        return r\n",
    "    while (n1>r and n2>r) or (n1<r and n2<r) is True:\n",
    "        if n1>r and n2>r:\n",
    "            for idx, value in enumerate(T[r]):\n",
    "                if value == 1 and idx>r:\n",
    "                    r = idx\n",
    "        if n1<r and n2<r:\n",
    "            for idx, value in enumerate(T[r]):\n",
    "                if value == 1 and idx<r:\n",
    "                    r = idx\n",
    "        return r"
   ]
  },
  {
   "cell_type": "markdown",
   "metadata": {},
   "source": [
    "Another improvement is the code above where instead of making a list of all the previous nodes, we can make a while loop that reassigns the root as long as both nodes are either higher or lower than the root. If this condition is no longer satisfied then that means that the new assigned root is the lowest common ancestor. Out of all three functions for question 4, 4c is the most efficient as it divides the tree into two every time by reassigning the root and only checking on either the left or the right. The big O notation for this would be the height of the tree which is O(log(n))."
   ]
  },
  {
   "cell_type": "markdown",
   "metadata": {},
   "source": [
    "# Question 5"
   ]
  },
  {
   "cell_type": "markdown",
   "metadata": {},
   "source": [
    "Find the element in a singly linked list that's m elements from the end. For example, if a linked list has 5 elements, the 3rd element from the end is the 3rd element. The function definition should look like question5(ll, m), where ll is the first node of a linked list and m is the \"mth number from the end\". You should copy/paste the Node class below to use as a representation of a node in the linked list. Return the value of the node at that position."
   ]
  },
  {
   "cell_type": "code",
   "execution_count": 25,
   "metadata": {
    "collapsed": true
   },
   "outputs": [],
   "source": [
    "class Node(object):\n",
    "  def __init__(self, data):\n",
    "    self.data = data\n",
    "    self.next = None\n",
    "    \n",
    "class LinkedList(object):\n",
    "    def __init__(self, head=None):\n",
    "        self.head = head\n",
    "        \n",
    "    def counter(ll,m): #This will count the number of items in the linkedlist\n",
    "        ll = self.head\n",
    "        current = ll\n",
    "        counter = 1\n",
    "        if m < 1 :\n",
    "            return None\n",
    "        if m >= 1 :\n",
    "            while current.next:\n",
    "                current = current.next\n",
    "                counter = counter + 1\n",
    "            return counter\n",
    "    \n",
    "    def question5(ll,m):\n",
    "        ll = self.head\n",
    "        current = ll\n",
    "        counter = counter(ll,m)\n",
    "        iteration = 0\n",
    "        if m<=1:\n",
    "            return None\n",
    "        if counter < m:\n",
    "            return None\n",
    "        if counter == m:\n",
    "            return ll\n",
    "        if counter > m:\n",
    "            moves  = counter - m\n",
    "            while moves > iteration:\n",
    "                current = current.next\n",
    "                iteration +=1\n",
    "            return current"
   ]
  },
  {
   "cell_type": "markdown",
   "metadata": {},
   "source": [
    "In order to get the value of the mth position from the last element, I would need to know how many elements/nodes the Linkedlist has. For this, I created the first function called counter that takes in the first element of the linkedlist and iterates through the list until the there is no more element. A counter is incremented to know the len of the linked list. Now that we have this information, we subtract counter by m position so we get the 'index' of the element we want to return. We iterate through the linkedlist again until we reach that 'index'. For the first function, the time complexity would be O(n) as it is linearly dependent on the length of the linkedlist. But together with the second function, the Big O notation will now be O(2n) as it iterates through the list again (worst case assuming that m is 1 or the last element). The creation of the counter variable adds to the space complexity but is not much since it is just a single value."
   ]
  },
  {
   "cell_type": "code",
   "execution_count": null,
   "metadata": {
    "collapsed": true
   },
   "outputs": [],
   "source": []
  }
 ],
 "metadata": {
  "kernelspec": {
   "display_name": "Python 2",
   "language": "python",
   "name": "python2"
  },
  "language_info": {
   "codemirror_mode": {
    "name": "ipython",
    "version": 2
   },
   "file_extension": ".py",
   "mimetype": "text/x-python",
   "name": "python",
   "nbconvert_exporter": "python",
   "pygments_lexer": "ipython2",
   "version": "2.7.11"
  }
 },
 "nbformat": 4,
 "nbformat_minor": 0
}
